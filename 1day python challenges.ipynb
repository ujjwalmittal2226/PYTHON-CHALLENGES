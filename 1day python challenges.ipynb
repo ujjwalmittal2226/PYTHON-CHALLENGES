{
 "cells": [
  {
   "cell_type": "code",
   "execution_count": 1,
   "id": "c7518f3f-501e-48cf-a13a-a413eccb28c9",
   "metadata": {},
   "outputs": [
    {
     "name": "stdout",
     "output_type": "stream",
     "text": [
      "Hello, World!\n"
     ]
    }
   ],
   "source": [
    "# Write Python 3 code in this online editor and run it.\n",
    "print(\"Hello, World!\")\n"
   ]
  },
  {
   "cell_type": "code",
   "execution_count": 3,
   "id": "4f1be675-ccc7-4fd7-95ca-e34fe3b44c26",
   "metadata": {},
   "outputs": [
    {
     "name": "stdin",
     "output_type": "stream",
     "text": [
      "enter first number for sum :  12\n",
      "enter first number for sum :  23\n"
     ]
    },
    {
     "name": "stdout",
     "output_type": "stream",
     "text": [
      "35\n"
     ]
    }
   ],
   "source": [
    "#Calculate Sum of 2 number enter by the user.\n",
    "a = int(input(\"enter first number for sum : \"))\n",
    "b = int(input(\"enter first number for sum : \"))\n",
    "sum = a+ b \n",
    "print(sum)\n"
   ]
  },
  {
   "cell_type": "code",
   "execution_count": 5,
   "id": "cbd1814c-971b-4c32-afb5-7367f141c27b",
   "metadata": {},
   "outputs": [
    {
     "name": "stdin",
     "output_type": "stream",
     "text": [
      "Enter the temp in calcius :  12\n"
     ]
    },
    {
     "name": "stdout",
     "output_type": "stream",
     "text": [
      "53.6\n"
     ]
    }
   ],
   "source": [
    "#Convert the temperature from calcius to farenaite.\n",
    "temp = float(input(\"Enter the temp in calcius : \"))\n",
    "faranite = (temp*(9/5) + 32)\n",
    "print(faranite)\n"
   ]
  },
  {
   "cell_type": "code",
   "execution_count": 9,
   "id": "71881c73-f7d4-41de-98bf-61e2c9f16860",
   "metadata": {},
   "outputs": [
    {
     "name": "stdin",
     "output_type": "stream",
     "text": [
      "enter the length :  2\n",
      "Enter the width :  2\n"
     ]
    },
    {
     "name": "stdout",
     "output_type": "stream",
     "text": [
      "4.0\n"
     ]
    }
   ],
   "source": [
    "#Calculate area of rectangle.\n",
    "len = float(input(\"enter the length : \"))\n",
    "wid = float(input(\"Enter the width : \"))\n",
    "area =  len * wid\n",
    "print(area)\n"
   ]
  },
  {
   "cell_type": "code",
   "execution_count": 19,
   "id": "effd1da2-781f-4b0c-be91-4bb27c383dba",
   "metadata": {},
   "outputs": [
    {
     "name": "stdin",
     "output_type": "stream",
     "text": [
      "enter your name :  12\n",
      "enter your age please : 12\n"
     ]
    },
    {
     "name": "stdout",
     "output_type": "stream",
     "text": [
      "Hello 12 nice to meet you  you day is gone best today 12 You are in your golden period of your life do the best work \n",
      "Hello My Name is 12 and I'm 13 old\n"
     ]
    }
   ],
   "source": [
    "#Take user name and age as input and print the greeting.\n",
    "name = input(\"enter your name : \")\n",
    "age = int(input(\"enter your age please :\"))\n",
    "print(\"Hello\",name,\"nice to meet you  you day is gone best today\",age,\"You are in your golden period of your life do the best work \")\n",
    "print(f\"Hello My Name is {name} and I'm {age+1} old\")\n"
   ]
  },
  {
   "cell_type": "code",
   "execution_count": 27,
   "id": "0d9dacce-8561-4dbf-8107-95ad46e0a5a4",
   "metadata": {},
   "outputs": [
    {
     "name": "stdin",
     "output_type": "stream",
     "text": [
      "Please Enter the number:  2\n"
     ]
    },
    {
     "name": "stdout",
     "output_type": "stream",
     "text": [
      "even number\n"
     ]
    }
   ],
   "source": [
    "#Check the number is even or odd.\n",
    "nu = int(input(\"Please Enter the number: \"))\n",
    "if nu%2 == 0:\n",
    "    print(\"even number\")\n",
    "else:\n",
    "    print(\"odd number\")\n"
   ]
  },
  {
   "cell_type": "code",
   "execution_count": 31,
   "id": "3df75d95-05fd-415c-a1fe-cf6b5f6905da",
   "metadata": {},
   "outputs": [
    {
     "name": "stdout",
     "output_type": "stream",
     "text": [
      "Maximum is 456\n",
      "minimum is 1\n"
     ]
    }
   ],
   "source": [
    "#Given a list of number, Find the maximum and minimum element.\n",
    "lis = [1,4,65,46,456,34,87]\n",
    "a= max(lis)\n",
    "b = min(lis)\n",
    "print(\"Maximum is\",a)\n",
    "print(\"minimum is\",b)\n"
   ]
  },
  {
   "cell_type": "code",
   "execution_count": 47,
   "id": "c1f0c95f-e350-4525-b8c6-7725c1295be5",
   "metadata": {},
   "outputs": [
    {
     "name": "stdin",
     "output_type": "stream",
     "text": [
      "Enter the string :  qwewq\n"
     ]
    },
    {
     "name": "stdout",
     "output_type": "stream",
     "text": [
      "string is palindrone\n"
     ]
    }
   ],
   "source": [
    "#Program for python function to check given string is palindrone.\n",
    "st = input(\"Enter the string : \")\n",
    "if st == st[::-1]: #s==s[::]\n",
    "    print(\"string is palindrone\")\n",
    "else:\n",
    "    print(\"not palindrone\")\n"
   ]
  },
  {
   "cell_type": "code",
   "execution_count": 49,
   "id": "bd8cfed9-3d43-469e-bcf8-1d12aa1c2c9a",
   "metadata": {},
   "outputs": [
    {
     "name": "stdout",
     "output_type": "stream",
     "text": [
      "15.0\n"
     ]
    }
   ],
   "source": [
    "#Calculate the interest.\n",
    "pi = 100\n",
    "rate =5\n",
    "time =3\n",
    "si =(pi*rate*time)/100\n",
    "print(si)\n"
   ]
  },
  {
   "cell_type": "code",
   "execution_count": 51,
   "id": "b70f4b4c-a061-44b6-ba1e-a87574613956",
   "metadata": {},
   "outputs": [
    {
     "name": "stdin",
     "output_type": "stream",
     "text": [
      "enter the number of days :  11222\n"
     ]
    },
    {
     "name": "stdout",
     "output_type": "stream",
     "text": [
      "the number of year 30\n",
      "the number of year 1603\n",
      "the number of year 374\n"
     ]
    }
   ],
   "source": [
    "#Convert the Given number of Days into Year, Month.\n",
    "day = int(input(\"enter the number of days : \"))\n",
    "year = day//365\n",
    "week = day//7\n",
    "month = day//30\n",
    "print(\"the number of year\",year)\n",
    "print(\"the number of year\",week)\n",
    "print(\"the number of year\",month)\n"
   ]
  },
  {
   "cell_type": "code",
   "execution_count": 57,
   "id": "1711fdb6-84f3-498e-86b5-4f8b840ebaa0",
   "metadata": {},
   "outputs": [
    {
     "name": "stdout",
     "output_type": "stream",
     "text": [
      "168\n"
     ]
    }
   ],
   "source": [
    "#Given list of integer find sum of number\n",
    "li = [1,4,6,56,3,64,34]\n",
    "sum = 0\n",
    "\n",
    "for i  in li:\n",
    "    \n",
    "    sum = sum +i\n",
    "print(sum)\n"
   ]
  },
  {
   "cell_type": "code",
   "execution_count": 77,
   "id": "3cd3560b-1a40-4720-864e-7ad0cd1f4105",
   "metadata": {},
   "outputs": [
    {
     "ename": "TypeError",
     "evalue": "'float' object is not callable",
     "output_type": "error",
     "traceback": [
      "\u001b[1;31m---------------------------------------------------------------------------\u001b[0m",
      "\u001b[1;31mTypeError\u001b[0m                                 Traceback (most recent call last)",
      "Cell \u001b[1;32mIn[77], line 3\u001b[0m\n\u001b[0;32m      1\u001b[0m \u001b[38;5;66;03m#Take sentence as input find out the number of words.\u001b[39;00m\n\u001b[0;32m      2\u001b[0m sent \u001b[38;5;241m=\u001b[39m \u001b[38;5;124m\"\u001b[39m\u001b[38;5;124mHello myself ujjwal mittal i learnt programming language and get knowledge in  this lang\u001b[39m\u001b[38;5;124m\"\u001b[39m\n\u001b[1;32m----> 3\u001b[0m ength\u001b[38;5;241m=\u001b[39m \u001b[38;5;28mlen\u001b[39m(sent) \u001b[38;5;66;03m#calculate the length of the string\u001b[39;00m\n\u001b[0;32m      4\u001b[0m \u001b[38;5;28mprint\u001b[39m(ength)\n",
      "\u001b[1;31mTypeError\u001b[0m: 'float' object is not callable"
     ]
    }
   ],
   "source": [
    "#Take sentence as input find out the number of words.\n",
    "sent = \"Hello myself ujjwal mittal i learnt programming language and get knowledge in  this lang\"\n",
    "ength= len(sent) #calculate the length of the string\n",
    "print(ength)\n"
   ]
  },
  {
   "cell_type": "code",
   "execution_count": 79,
   "id": "9750b835-a78a-4607-8d70-fe51a4bfcedd",
   "metadata": {},
   "outputs": [
    {
     "name": "stdout",
     "output_type": "stream",
     "text": [
      "the value of a,b before swap 20 35\n",
      "the value of a after swap 35 20\n"
     ]
    }
   ],
   "source": [
    "#program to swap the number.\n",
    "a=20\n",
    "b=35\n",
    "print(\"the value of a,b before swap\",a,b)\n",
    "a,b = b,a\n",
    "print(\"the value of a after swap\",a,b)\n"
   ]
  },
  {
   "cell_type": "code",
   "execution_count": 81,
   "id": "6746ae38-92e7-458d-9d0d-488fc6a2ed93",
   "metadata": {},
   "outputs": [
    {
     "name": "stdin",
     "output_type": "stream",
     "text": [
      "enter your name :  ujjwal\n",
      "enter your age :  12\n",
      "enter the details :  22\n"
     ]
    }
   ],
   "source": [
    "#Create the variables.\n",
    "name = input(\"enter your name : \")\n",
    "age = int(input(\"enter your age : \"))\n",
    "average  = float(input(\"enter the details : \"))\n"
   ]
  },
  {
   "cell_type": "code",
   "execution_count": 89,
   "id": "0efcf783-14b8-465f-9de4-12444dd1070c",
   "metadata": {},
   "outputs": [
    {
     "name": "stdout",
     "output_type": "stream",
     "text": [
      "My Name Is Ujjwal Mittal\n"
     ]
    }
   ],
   "source": [
    "#Concatenate the string and print the result.\n",
    "a = \"My Name \"\n",
    "b = \"Is Ujjwal Mittal\"\n",
    "print(a + b)\n"
   ]
  },
  {
   "cell_type": "code",
   "execution_count": 21,
   "id": "12131c39-e031-4625-ae3f-7d6e1b10757b",
   "metadata": {},
   "outputs": [
    {
     "name": "stdout",
     "output_type": "stream",
     "text": [
      "apple\n",
      "apple\n",
      "mango\n",
      "grapes\n",
      "banana\n",
      "orange\n"
     ]
    }
   ],
   "source": [
    "#create a list of fruits and access its elemnent.\n",
    "fruits = ['apple','mango','grapes','banana','orange']\n",
    "print(fruits[0])\n",
    "n = len(fruits)\n",
    "for i in range(0,n):\n",
    "    print(fruits[i])"
   ]
  },
  {
   "cell_type": "code",
   "execution_count": 17,
   "id": "67c9c192-fbb1-4324-84bf-6fce69d25195",
   "metadata": {},
   "outputs": [
    {
     "name": "stdout",
     "output_type": "stream",
     "text": [
      "717\n",
      "6\n",
      "119.5\n"
     ]
    }
   ],
   "source": [
    "#create a list of number find sum and average.\n",
    "l = [1,3,56,67,545,45]\n",
    "sum = 0 \n",
    "for i in l:\n",
    "    sum = sum + i\n",
    "print(sum)\n",
    "print(len(l))\n",
    "avg = sum/len(l)\n",
    "print(avg)\n"
   ]
  },
  {
   "cell_type": "code",
   "execution_count": 125,
   "id": "fa5251fd-e61b-4104-9a39-b50025765881",
   "metadata": {},
   "outputs": [
    {
     "name": "stdin",
     "output_type": "stream",
     "text": [
      "Enter temp in calcius :  12\n"
     ]
    },
    {
     "name": "stdout",
     "output_type": "stream",
     "text": [
      "285.15\n"
     ]
    }
   ],
   "source": [
    "#Program for convert temperature in calcious to kelvin.\n",
    "cal = int(input(\"Enter temp in calcius : \"))\n",
    "kalvin = cal + 273.15\n",
    "print(kalvin)\n"
   ]
  },
  {
   "cell_type": "code",
   "execution_count": 129,
   "id": "4ae7cc79-d652-45db-8dd8-374e22efe434",
   "metadata": {},
   "outputs": [
    {
     "name": "stdin",
     "output_type": "stream",
     "text": [
      "enter the string : qweewq\n"
     ]
    },
    {
     "name": "stdout",
     "output_type": "stream",
     "text": [
      "palindrone\n"
     ]
    }
   ],
   "source": [
    "#Program to check String is palindrone.\n",
    "st = input(\"enter the string :\")\n",
    "if st == st[::-1]: #remember it\n",
    "    print(\"palindrone\")\n",
    "else:\n",
    "    print(\"not a palindrone\")\n"
   ]
  },
  {
   "cell_type": "code",
   "execution_count": 131,
   "id": "ddb98a45-f672-4651-9f7c-081fc0b129e7",
   "metadata": {},
   "outputs": [
    {
     "name": "stdin",
     "output_type": "stream",
     "text": [
      "enter the string : qweeee\n"
     ]
    },
    {
     "name": "stdout",
     "output_type": "stream",
     "text": [
      "eeeewq\n"
     ]
    }
   ],
   "source": [
    "#Function for Reverse the String.\n",
    "stq = input(\"enter the string :\")\n",
    "\n",
    "print(stq[::-1])# remember it for reverse the string.\n"
   ]
  },
  {
   "cell_type": "code",
   "execution_count": 135,
   "id": "2b3748ee-9364-41e6-b3ec-21315d3a4c45",
   "metadata": {},
   "outputs": [
    {
     "name": "stdout",
     "output_type": "stream",
     "text": [
      "geeksforgeeks\n"
     ]
    }
   ],
   "source": [
    "#Given a list of name concatenate in a single string.\n",
    "def convert(lst):\n",
    "     \n",
    "    return''.join(lst)\n",
    "     \n",
    "# Driver code\n",
    "lst = ['geeks', 'for', 'geeks']\n",
    "print(convert(lst))\n",
    "\n"
   ]
  },
  {
   "cell_type": "code",
   "execution_count": 137,
   "id": "03214b20-0526-4314-bd1f-7b7b16fb6af1",
   "metadata": {},
   "outputs": [
    {
     "name": "stdin",
     "output_type": "stream",
     "text": [
      "enter the radius : 12\n"
     ]
    },
    {
     "name": "stdout",
     "output_type": "stream",
     "text": [
      "75.36 452.15999999999997\n"
     ]
    },
    {
     "name": "stdin",
     "output_type": "stream",
     "text": [
      "entre the min :  21\n"
     ]
    }
   ],
   "source": [
    "#Area of Circle.\n",
    "rad = float(input(\"enter the radius :\"))\n",
    "\n",
    "area = 3.14* rad*rad\n",
    "peri = 2*3.14*rad \n",
    "print(peri,area)\n"
   ]
  },
  {
   "cell_type": "code",
   "execution_count": 141,
   "id": "fb500909-2706-448f-9223-49da93a2ce1a",
   "metadata": {},
   "outputs": [
    {
     "name": "stdin",
     "output_type": "stream",
     "text": [
      "entre the min :  12\n"
     ]
    },
    {
     "name": "stdout",
     "output_type": "stream",
     "text": [
      "hpurs is:  0.2\n",
      "second are :  720\n"
     ]
    }
   ],
   "source": [
    "#Take Minute as input and convert into hour second.\n",
    "\n",
    "min = int(input(\"entre the min : \"))\n",
    "\n",
    "hour = min/60\n",
    "sec = min*60\n",
    "print(\"hpurs is: \",hour)\n",
    "print(\"second are : \",sec)\n"
   ]
  },
  {
   "cell_type": "code",
   "execution_count": 47,
   "id": "006d6561-3c65-40a6-ac29-aa9c9f98e48d",
   "metadata": {},
   "outputs": [
    {
     "name": "stdin",
     "output_type": "stream",
     "text": [
      "Enter the string : QWERTYUIOPLKJHGFDASZXCVBNMM\n"
     ]
    },
    {
     "name": "stdout",
     "output_type": "stream",
     "text": [
      "Yes\n"
     ]
    }
   ],
   "source": [
    "#Program to check string is pangram(contains all letter of alphabet)\n",
    "import string\n",
    " \n",
    "def ispangram(str):\n",
    "    alphabet = \"abcdefghijklmnopqrstuvwxyz\"\n",
    "    for char in alphabet:\n",
    "        if char not in str.lower():\n",
    "            return False\n",
    " \n",
    "    return True\n",
    "     \n",
    "# Driver code\n",
    "#string = 'the quick brown fox jumps over the lazy dog'\n",
    "string = input(\"Enter the string :\")\n",
    "if(ispangram(string) == True):\n",
    "    print(\"Yes\")\n",
    "else:\n",
    "    print(\"No\")"
   ]
  },
  {
   "cell_type": "code",
   "execution_count": 41,
   "id": "088e74c8-d148-4471-b268-b4d8162e5dbd",
   "metadata": {},
   "outputs": [
    {
     "name": "stdin",
     "output_type": "stream",
     "text": [
      "Enter string: qwertasxcui\n"
     ]
    },
    {
     "name": "stdout",
     "output_type": "stream",
     "text": [
      "Number of vowels are:\n",
      "4\n"
     ]
    }
   ],
   "source": [
    "#Program to count number of vowels in string\n",
    "string=input(\"Enter string:\")\n",
    "vowels=0\n",
    "for i in string:\n",
    "      if(i=='a' or i=='e' or i=='i' or i=='o' or i=='u' or i=='A' or i=='E' or i=='I' or i=='O' or i=='U'):\n",
    "            vowels=vowels+1\n",
    "print(\"Number of vowels are:\")\n",
    "print(vowels)"
   ]
  },
  {
   "cell_type": "code",
   "execution_count": 31,
   "id": "3e157fdb-8f28-4a23-b944-6bd8ab0a8af6",
   "metadata": {},
   "outputs": [
    {
     "name": "stdin",
     "output_type": "stream",
     "text": [
      "Enter the number : 2\n"
     ]
    },
    {
     "name": "stdout",
     "output_type": "stream",
     "text": [
      "Not a prime number\n"
     ]
    }
   ],
   "source": [
    "#program to check number is prime.\n",
    "num = int(input(\"Enter the number :\"))\n",
    "if (num == 0 or num ==1 or num ==2):\n",
    "    print(\"Not a prime number\")\n",
    "for i in range(2,num):\n",
    "    if num%i == 0:\n",
    "        print(\"the number is non prime\")\n",
    "        break\n",
    "    else:\n",
    "        print(\" the prime number\")\n",
    "            "
   ]
  },
  {
   "cell_type": "code",
   "execution_count": 49,
   "id": "aae2a76f-b28f-4794-b711-753be019893e",
   "metadata": {},
   "outputs": [
    {
     "name": "stdin",
     "output_type": "stream",
     "text": [
      "Enter some number  :  12\n"
     ]
    },
    {
     "name": "stdout",
     "output_type": "stream",
     "text": [
      "the num12 is a positive number\n"
     ]
    }
   ],
   "source": [
    "# Write Python 3 code in this online editor and run it.\n",
    "num  = int(input(\"Enter some number  : \"))\n",
    "if num>0:\n",
    "    print(f\"the num{num} is a positive number\")\n",
    "elif num ==0:\n",
    "    print(f\"the number {num}is zero\")\n",
    "else:\n",
    "    print(f\"the number {num} is negative\")\n"
   ]
  },
  {
   "cell_type": "code",
   "execution_count": 51,
   "id": "9273db5e-aa89-4646-b0cc-038fa4a618bd",
   "metadata": {},
   "outputs": [
    {
     "name": "stdout",
     "output_type": "stream",
     "text": [
      "2\n",
      "4\n",
      "6\n",
      "8\n",
      "10\n",
      "12\n",
      "14\n",
      "16\n",
      "18\n",
      "20\n"
     ]
    }
   ],
   "source": [
    "#PRINT AND STORE FIRST 10 EVEN numbers.\n",
    "for i in range(1,21):\n",
    "    if i%2==0:\n",
    "        print(i) #how we store this number in such a way that its display as in  one string.\n"
   ]
  },
  {
   "cell_type": "code",
   "execution_count": 57,
   "id": "05e8df14-ed26-47f4-b94e-f7cb7cfdf58a",
   "metadata": {},
   "outputs": [
    {
     "name": "stdout",
     "output_type": "stream",
     "text": [
      "45\n"
     ]
    }
   ],
   "source": [
    "#To find the largest element in the list.\n",
    "num = [1,3,44,24,22,45,34]\n",
    "largest = 0\n",
    "for i in num:\n",
    "    if largest<i:\n",
    "        largest = i\n",
    "print(largest)\n"
   ]
  },
  {
   "cell_type": "code",
   "execution_count": 59,
   "id": "8121aa21-d99b-4b6c-9d2c-74a9c1d69e94",
   "metadata": {},
   "outputs": [
    {
     "name": "stdin",
     "output_type": "stream",
     "text": [
      "Enter the year :  3\n"
     ]
    },
    {
     "name": "stdout",
     "output_type": "stream",
     "text": [
      "The year3 is not a leap year\n"
     ]
    }
   ],
   "source": [
    "#Check year is leap or not\n",
    "year = int(input(\"Enter the year : \"))\n",
    "if((year%4==0 and year%100!=0) or year%400==0):\n",
    "    print(f\"the year{year} is the leap year\")\n",
    "else:\n",
    "    print(f\"The year{year} is not a leap year\")\n"
   ]
  },
  {
   "cell_type": "code",
   "execution_count": 137,
   "id": "fe2edb48-655b-4336-9c5b-ac0ecf2c1bf4",
   "metadata": {},
   "outputs": [
    {
     "name": "stdout",
     "output_type": "stream",
     "text": [
      "2\n",
      "4\n",
      "76\n",
      "34\n",
      "12\n",
      "24\n",
      "6\n",
      "66\n",
      "88\n",
      "[2, 4, 76, 34, 12, 24, 6, 66, 88]\n"
     ]
    }
   ],
   "source": [
    "#Find all even number and store in new list.\n",
    "#Given list of integer, find even number and store in new list.\n",
    "n =[]\n",
    "lis = [1,2,3,5,4,7,57,76,34,23,12,24,5,65,55,6,66,88]\n",
    "for i in lis:\n",
    "    if i %2 ==0:\n",
    "        print(i)\n",
    "        n.append(i)\n",
    "        #n.append(i)\n",
    "print(n)\n"
   ]
  },
  {
   "cell_type": "code",
   "execution_count": 131,
   "id": "a732871e-4b1b-4f1c-bc9f-094b702255b4",
   "metadata": {},
   "outputs": [
    {
     "name": "stdin",
     "output_type": "stream",
     "text": [
      "Enter the number:  5\n"
     ]
    },
    {
     "name": "stdout",
     "output_type": "stream",
     "text": [
      "not prime\n"
     ]
    }
   ],
   "source": [
    "#Check given number is Prime.\n",
    "#Check for a prime number.\n",
    "num  = int(input(\"Enter the number: \"))\n",
    "if(num == 0 or num==1):\n",
    "    print(\"not tells\")\n",
    "        \n",
    "elif(num>1):\n",
    "    for i in range(1,num):\n",
    "        if(num%i==0):\n",
    "            print(\"not prime\")\n",
    "            break\n",
    "        else:\n",
    "            print(\"Primee\")\n",
    "            break\n"
   ]
  },
  {
   "cell_type": "code",
   "execution_count": 133,
   "id": "63c58da6-e392-4eca-9eb4-7f2831f161db",
   "metadata": {},
   "outputs": [
    {
     "name": "stdin",
     "output_type": "stream",
     "text": [
      "Enter the number :  5\n"
     ]
    },
    {
     "name": "stdout",
     "output_type": "stream",
     "text": [
      "0\n",
      "1\n",
      "1\n",
      "2\n",
      "3\n",
      "5\n"
     ]
    }
   ],
   "source": [
    "#Generates the Fibonacci Series upto given number of terms.\n",
    "\n",
    "#generate fibonacci series of n term\n",
    "num = int(input(\"Enter the number : \"))\n",
    "if num<0:\n",
    "    print(\"negative number\")\n",
    "elif (num ==0 or num==1):\n",
    "    print(\"0\")\n",
    "a  = 0 \n",
    "b = 1\n",
    "for i in range(1,num-1):\n",
    "    print(a)\n",
    "    print(b)\n",
    "    a = a +b\n",
    "    b = b +a\n"
   ]
  },
  {
   "cell_type": "code",
   "execution_count": 123,
   "id": "484058ce-11a7-4dfe-aed6-95e7ab99a0ff",
   "metadata": {},
   "outputs": [
    {
     "name": "stdin",
     "output_type": "stream",
     "text": [
      "how many element you want to add :  4\n",
      "enter the element ert\n",
      "enter the element fty\n",
      "enter the element ug\n",
      "enter the element hu\n"
     ]
    },
    {
     "name": "stdout",
     "output_type": "stream",
     "text": [
      "['kd', 'ert', 'fty', 'ug', 'hu']\n"
     ]
    }
   ],
   "source": [
    "#Given a list, print all name start with a.\n",
    "#print and take an input list and print it.\n",
    "#get a list of name print which start with a \n",
    "num = int(input(\"how many element you want to add : \"))\n",
    "l =['kd']\n",
    "for i in range(0,num):\n",
    "    li = input(\"enter the element\")\n",
    "    l.append(li)\n",
    "   # l.insert(i+1,li)\n",
    "    \n",
    "print(l)\n",
    "#Check nhi huadf"
   ]
  },
  {
   "cell_type": "code",
   "execution_count": 121,
   "id": "52ba513f-fa8a-4f02-b9c9-fb29dc04ab50",
   "metadata": {},
   "outputs": [
    {
     "name": "stdin",
     "output_type": "stream",
     "text": [
      "Enter the number for table:  6\n"
     ]
    },
    {
     "name": "stdout",
     "output_type": "stream",
     "text": [
      "6 * 0 = 0\n",
      "6 * 1 = 6\n",
      "6 * 2 = 12\n",
      "6 * 3 = 18\n",
      "6 * 4 = 24\n",
      "6 * 5 = 30\n",
      "6 * 6 = 36\n",
      "6 * 7 = 42\n",
      "6 * 8 = 48\n",
      "6 * 9 = 54\n",
      "6 * 10 = 60\n"
     ]
    }
   ],
   "source": [
    "\n",
    "#print the multiplication table.\n",
    "num = int(input(\"Enter the number for table: \"))\n",
    "for i in range(0,11):\n",
    "    print(f\"{num} * {i} = {num*i}\")\n"
   ]
  },
  {
   "cell_type": "code",
   "execution_count": 135,
   "id": "78a0b155-1c24-4a4e-a9a1-74bd21c66a55",
   "metadata": {},
   "outputs": [
    {
     "name": "stdin",
     "output_type": "stream",
     "text": [
      "Enter the number :  1\n"
     ]
    },
    {
     "name": "stdout",
     "output_type": "stream",
     "text": [
      "0\n"
     ]
    }
   ],
   "source": [
    "#Calculate the fibonacci series.\n",
    "#generate fibonacci series of n term\n",
    "num = int(input(\"Enter the number : \"))\n",
    "if num<0:\n",
    "    print(\"negative number\")\n",
    "elif (num ==0 or num==1):\n",
    "    print(\"0\")\n",
    "a  = 0 \n",
    "b = 1\n",
    "for i in range(1,num-1):\n",
    "    print(a)\n",
    "    print(b)\n",
    "    a = a +b\n",
    "    b = b +a\n"
   ]
  },
  {
   "cell_type": "code",
   "execution_count": 74,
   "id": "cdee8762-1f07-4da7-9952-a905f2a4d751",
   "metadata": {},
   "outputs": [],
   "source": [
    "#Loop for print prime number for 1 to 50."
   ]
  },
  {
   "cell_type": "code",
   "execution_count": 76,
   "id": "efd89639-5b91-409e-bfc1-092494f3507c",
   "metadata": {},
   "outputs": [],
   "source": [
    "#Given list of word,count number of word with more than 5 character."
   ]
  },
  {
   "cell_type": "code",
   "execution_count": 78,
   "id": "01aa7e6b-a791-4367-8831-d2bd921b7a54",
   "metadata": {},
   "outputs": [],
   "source": [
    "#Calculate the sum of digit of given number.\n"
   ]
  },
  {
   "cell_type": "code",
   "execution_count": 83,
   "id": "5b1aa562-ffc0-4861-a15e-3c1fe93580ed",
   "metadata": {},
   "outputs": [],
   "source": [
    "## Function\n",
    "#Day -4"
   ]
  },
  {
   "cell_type": "code",
   "execution_count": 85,
   "id": "a225ec25-3421-46db-b1fd-7fab8d636491",
   "metadata": {},
   "outputs": [
    {
     "name": "stdin",
     "output_type": "stream",
     "text": [
      "enter the radius :  2\n"
     ]
    },
    {
     "name": "stdout",
     "output_type": "stream",
     "text": [
      "12.56\n",
      "Is area of circle\n"
     ]
    }
   ],
   "source": [
    "#Calculate the area of circle \n",
    "#Calculate area of circle with radius.\n",
    "def area(rad):\n",
    "    print(3.14*rad*rad) #We can't use print after the return.\n",
    "    return \"Is area of circle\"\n",
    "rad = int(input(\"enter the radius : \"))\n",
    "print(area(rad))\n"
   ]
  },
  {
   "cell_type": "code",
   "execution_count": 93,
   "id": "08079613-4618-40b9-b930-6d8884e12b06",
   "metadata": {},
   "outputs": [
    {
     "name": "stdin",
     "output_type": "stream",
     "text": [
      "enter the number :  4\n"
     ]
    },
    {
     "name": "stdout",
     "output_type": "stream",
     "text": [
      "It's Prime number\n",
      "None\n"
     ]
    }
   ],
   "source": [
    "#Check number is prime\n",
    "def prime(num):\n",
    "    for i in range(1,num):\n",
    "        if num%i ==0:\n",
    "            print(\"It's Prime number\")\n",
    "            break\n",
    "        else:\n",
    "            print(\"Non prime\")\n",
    "            break\n",
    "        return \"Thank you  using this function\"\n",
    "num = int(input(\"enter the number : \"))\n",
    "print(prime(num))\n"
   ]
  },
  {
   "cell_type": "code",
   "execution_count": 95,
   "id": "cd11242e-8558-4889-9856-873fad3c34bd",
   "metadata": {},
   "outputs": [
    {
     "name": "stdin",
     "output_type": "stream",
     "text": [
      "enter the number :  33\n"
     ]
    },
    {
     "name": "stdout",
     "output_type": "stream",
     "text": [
      "33\n"
     ]
    }
   ],
   "source": [
    "#Make a function for reverse the string.\n",
    "def reverse(stre):\n",
    "    return stre[::-1]\n",
    "stre = input(\"enter the number : \")\n",
    "print(reverse(stre))\n"
   ]
  },
  {
   "cell_type": "code",
   "execution_count": 97,
   "id": "de05b6d8-054d-49bd-8e19-36b36c2be0ae",
   "metadata": {},
   "outputs": [
    {
     "name": "stdout",
     "output_type": "stream",
     "text": [
      "270\n"
     ]
    }
   ],
   "source": [
    "#Create a function to find sum of all positive number\n",
    "\n",
    "def summ(Lis):\n",
    "    sum =0\n",
    "    \n",
    "    for i in Lis:\n",
    "        sum = sum + i\n",
    "    return sum\n",
    "Lis = [1,45,35,65,6,75,43]\n",
    "print(summ(Lis))\n"
   ]
  },
  {
   "cell_type": "code",
   "execution_count": 101,
   "id": "f660f8a1-03d2-4164-8ac1-de0811347f8a",
   "metadata": {},
   "outputs": [
    {
     "name": "stdin",
     "output_type": "stream",
     "text": [
      "Enter the value :  qweewq\n"
     ]
    },
    {
     "name": "stdout",
     "output_type": "stream",
     "text": [
      "yes string is palindron\n"
     ]
    }
   ],
   "source": [
    "#check string is palindron\n",
    "\n",
    "def palindron(stri):\n",
    "    if stri == stri[::-1]:\n",
    "        return \"yes string is palindron\"\n",
    "    else:\n",
    "        return \"No\"\n",
    "\n",
    "stri = input(\"Enter the value : \")\n",
    "print(palindron(stri))\n"
   ]
  },
  {
   "cell_type": "code",
   "execution_count": 103,
   "id": "9301dc4a-5302-4ce4-b38b-651fa00b0417",
   "metadata": {},
   "outputs": [
    {
     "name": "stdin",
     "output_type": "stream",
     "text": [
      "enter the number :  3\n"
     ]
    },
    {
     "name": "stdout",
     "output_type": "stream",
     "text": [
      "6\n"
     ]
    }
   ],
   "source": [
    "#function for return the factorial.\n",
    "\n",
    "def factorial(num):\n",
    "    if num ==0 or num ==1:\n",
    "        return 1\n",
    "    else:\n",
    "        return num*factorial(num-1)\n",
    "    \n",
    "num = int(input(\"enter the number : \"))\n",
    "print(factorial(num))\n"
   ]
  },
  {
   "cell_type": "code",
   "execution_count": 105,
   "id": "232fdabf-8e7a-43f6-982c-7ddad1828e4c",
   "metadata": {},
   "outputs": [
    {
     "name": "stdin",
     "output_type": "stream",
     "text": [
      "Enter the number for get the square :  4\n"
     ]
    },
    {
     "name": "stdout",
     "output_type": "stream",
     "text": [
      "the square of the number  :\n",
      "16\n"
     ]
    }
   ],
   "source": [
    "#To find square of each element in given list\n",
    "def sque(num):\n",
    "    print(\"the square of the number  :\")\n",
    "    return num**2\n",
    "num = int(input(\"Enter the number for get the square : \"))\n",
    "print(sque(num))\n"
   ]
  },
  {
   "cell_type": "code",
   "execution_count": 107,
   "id": "b8323b37-beaf-43c3-9d9e-1da4edec4a8d",
   "metadata": {},
   "outputs": [
    {
     "name": "stdin",
     "output_type": "stream",
     "text": [
      "Enter the number for check it's even or not:  45\n"
     ]
    },
    {
     "name": "stdout",
     "output_type": "stream",
     "text": [
      "no45 the number is odd\n"
     ]
    }
   ],
   "source": [
    "#To Check the given number is even or odd\n",
    "def check(num):\n",
    "    if num%2 ==0:\n",
    "        return f\"yes{num} the number is even\"\n",
    "    else:\n",
    "        return f\"no{num} the number is odd\"\n",
    "num = int(input(\"Enter the number for check it's even or not: \"))\n",
    "print(check(num))\n"
   ]
  },
  {
   "cell_type": "code",
   "execution_count": 111,
   "id": "9457c994-859d-454c-baf4-c4a22dedb47a",
   "metadata": {},
   "outputs": [
    {
     "name": "stdin",
     "output_type": "stream",
     "text": [
      "Enter the base of triangle  4\n",
      "Enter the height of triangle  7\n"
     ]
    },
    {
     "name": "stdout",
     "output_type": "stream",
     "text": [
      "the area of triangle with base 7 and height 4\n",
      "28\n"
     ]
    }
   ],
   "source": [
    "#To Calculate area of triangle with base and height\n",
    "def area(base,height):\n",
    "    print(f\"the area of triangle with base {base} and height {height }\")\n",
    "    return base*height\n",
    "    \n",
    "base = int(input(\"Enter the base of triangle \"))\n",
    "height = int(input(\"Enter the height of triangle \"))\n",
    "print(area(height,base))\n"
   ]
  },
  {
   "cell_type": "code",
   "execution_count": 113,
   "id": "074242cd-9967-43ac-8485-a0b18a4afc1f",
   "metadata": {},
   "outputs": [
    {
     "name": "stdout",
     "output_type": "stream",
     "text": [
      "['uisl', 'sdfgf', 'edcss', 'app', 'Qwe']\n"
     ]
    }
   ],
   "source": [
    "#To give sorted list of string\n",
    "def sort(li):\n",
    "    li.sort(reverse=True)\n",
    "    return li\n",
    "        \n",
    "    \n",
    "li = [\"Qwe\",\"app\",\"edcss\",\"uisl\",\"sdfgf\"]\n",
    "li.sort(reverse = True)\n",
    "print(sort(li))\n"
   ]
  },
  {
   "cell_type": "code",
   "execution_count": 115,
   "id": "0c8b56b1-13e7-4d54-836f-ce3ec20a60e8",
   "metadata": {},
   "outputs": [
    {
     "name": "stdout",
     "output_type": "stream",
     "text": [
      "['Qwe', 'app']\n"
     ]
    }
   ],
   "source": [
    "#To take 2 string as input and return join \n",
    "def conc(li1,li2):\n",
    "    \n",
    "    li =[]\n",
    "    for i in li1:\n",
    "        for j in li2:\n",
    "            if i == j:\n",
    "                li.append(i)\n",
    "    return li\n",
    "    \n",
    "li1 = [\"Qwe\",\"app\",\"edcss\",\"uisl\",\"sdfgf\"]\n",
    "li2 = [\"Qwe\",\"FDd\",\"SDf\",\"DWd\",\"app\"]\n",
    "print(conc(li1,li2))\n"
   ]
  },
  {
   "cell_type": "code",
   "execution_count": 117,
   "id": "bd420ab4-4f32-472a-965e-81ffa5700c74",
   "metadata": {},
   "outputs": [
    {
     "name": "stdin",
     "output_type": "stream",
     "text": [
      "enter the year for check year is leap or not 5435\n"
     ]
    },
    {
     "name": "stdout",
     "output_type": "stream",
     "text": [
      "the year 5435 is not a leap year\n"
     ]
    }
   ],
   "source": [
    "#To Check year is leap\n",
    "def leap(year):\n",
    "    if(year % 4 ==0 and year%100 !=0) or (year%400 ==0):\n",
    "        return f\"the year{year} is a leap year\"\n",
    "    else:\n",
    "        return f\"the year {year} is not a leap year\"\n",
    "    \n",
    "year = int(input(\"enter the year for check year is leap or not\"))\n",
    "print(leap(year))\n"
   ]
  },
  {
   "cell_type": "code",
   "execution_count": 119,
   "id": "16e831de-5655-48be-9522-d5a813ec7a23",
   "metadata": {},
   "outputs": [
    {
     "name": "stdin",
     "output_type": "stream",
     "text": [
      "enter the number for print the table is:  3\n"
     ]
    },
    {
     "name": "stdout",
     "output_type": "stream",
     "text": [
      "3 * 1 = 3\n",
      "3 * 2 = 6\n",
      "3 * 3 = 9\n",
      "3 * 4 = 12\n",
      "3 * 5 = 15\n",
      "3 * 6 = 18\n",
      "3 * 7 = 21\n",
      "3 * 8 = 24\n",
      "3 * 9 = 27\n",
      "3 * 10 = 30\n",
      "None\n"
     ]
    }
   ],
   "source": [
    "#To Print table of an number\n",
    "def table(num):\n",
    "    for i in range (1,11):\n",
    "        print(f\"{num} * {i} = {num * i}\")\n",
    "    \n",
    "num = int(input(\"enter the number for print the table is: \"))\n",
    "print(table(num))\n"
   ]
  },
  {
   "cell_type": "code",
   "execution_count": null,
   "id": "1c0d9daf-0221-4138-87ae-daf9e61c592f",
   "metadata": {},
   "outputs": [],
   "source": []
  }
 ],
 "metadata": {
  "kernelspec": {
   "display_name": "Python 3 (ipykernel)",
   "language": "python",
   "name": "python3"
  },
  "language_info": {
   "codemirror_mode": {
    "name": "ipython",
    "version": 3
   },
   "file_extension": ".py",
   "mimetype": "text/x-python",
   "name": "python",
   "nbconvert_exporter": "python",
   "pygments_lexer": "ipython3",
   "version": "3.12.4"
  }
 },
 "nbformat": 4,
 "nbformat_minor": 5
}
